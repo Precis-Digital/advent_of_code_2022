{
 "cells": [
  {
   "cell_type": "markdown",
   "metadata": {},
   "source": [
    "# Day 1: Calorie Counting"
   ]
  },
  {
   "cell_type": "markdown",
   "metadata": {},
   "source": [
    "## Part 1"
   ]
  },
  {
   "cell_type": "code",
   "execution_count": 8,
   "metadata": {},
   "outputs": [],
   "source": [
    "import numpy as np\n",
    "import pandas as pd\n",
    "from itertools import groupby\n",
    "\n",
    "\n",
    "with open('day_1/input.txt') as calories_file:\n",
    "    array_list = [np.loadtxt(g, dtype=int) for k, g in groupby(calories_file, lambda x: x.startswith('\\n')) if not k]\n"
   ]
  },
  {
   "cell_type": "code",
   "execution_count": 2,
   "metadata": {},
   "outputs": [
    {
     "name": "stdout",
     "output_type": "stream",
     "text": [
      "The maximum value is 66487\n"
     ]
    }
   ],
   "source": [
    "sum_of_arrays = [np.sum(x) for x in array_list]\n",
    "\n",
    "max_value = max(sum_of_arrays)\n",
    "\n",
    "print(f'The maximum value is {max_value}')"
   ]
  },
  {
   "cell_type": "markdown",
   "metadata": {},
   "source": [
    "## Part 2"
   ]
  },
  {
   "cell_type": "code",
   "execution_count": 3,
   "metadata": {},
   "outputs": [
    {
     "name": "stdout",
     "output_type": "stream",
     "text": [
      "The sum of the first 3 elements is 197301\n"
     ]
    }
   ],
   "source": [
    "sorted_sum_of_arrays = sorted(sum_of_arrays, reverse=True)\n",
    "\n",
    "print(f'The sum of the first 3 elements is {sum(sorted_sum_of_arrays[:3])}')"
   ]
  },
  {
   "cell_type": "markdown",
   "metadata": {},
   "source": [
    "# Day 2"
   ]
  },
  {
   "cell_type": "markdown",
   "metadata": {},
   "source": [
    "## Part 1"
   ]
  },
  {
   "cell_type": "code",
   "execution_count": 76,
   "metadata": {},
   "outputs": [],
   "source": [
    "strategy_df = pd.read_csv('day_2/strategy_guide.txt', sep=' ', header=None, names=['opponent_play', 'our_play'])"
   ]
  },
  {
   "cell_type": "code",
   "execution_count": 77,
   "metadata": {},
   "outputs": [],
   "source": [
    "strategy_df['opponent_play_int'] = strategy_df['opponent_play'].map({'A': 1, 'B': 2, 'C': 3})\n",
    "strategy_df['our_play_int'] = strategy_df['our_play'].map({'X': 1, 'Y': 2, 'Z': 3})"
   ]
  },
  {
   "cell_type": "code",
   "execution_count": 78,
   "metadata": {},
   "outputs": [],
   "source": [
    "strategy_df['game_points'] = np.where(strategy_df['opponent_play_int'] == strategy_df['our_play_int'], \n",
    "                                 3,\n",
    "                                 np.where((strategy_df['our_play_int']%3) == (strategy_df['opponent_play_int']-1),\n",
    "                                            0,\n",
    "                                            6))"
   ]
  },
  {
   "cell_type": "code",
   "execution_count": 79,
   "metadata": {},
   "outputs": [
    {
     "data": {
      "text/plain": [
       "9651"
      ]
     },
     "execution_count": 79,
     "metadata": {},
     "output_type": "execute_result"
    }
   ],
   "source": [
    "strategy_df['total_score_part_1'] = strategy_df['game_points']+strategy_df['our_play_int']\n",
    "strategy_df['total_score_part_1'].sum()"
   ]
  },
  {
   "cell_type": "markdown",
   "metadata": {},
   "source": [
    "## Part 2"
   ]
  },
  {
   "cell_type": "code",
   "execution_count": 80,
   "metadata": {},
   "outputs": [],
   "source": [
    "strategy_df['game_points_part_2'] = strategy_df['our_play'].map({'X': 0, 'Y': 3, 'Z': 6})\n",
    "strategy_df['our_play_int_part_2'] = np.where(strategy_df['our_play'] == 'Y', \n",
    "                                              strategy_df['opponent_play_int'], \n",
    "                                              np.where(strategy_df['our_play'] == \"X\",\n",
    "                                                       (strategy_df['opponent_play_int']+1)%3+1,\n",
    "                                                       (strategy_df['opponent_play_int'])%3+1))"
   ]
  },
  {
   "cell_type": "code",
   "execution_count": 81,
   "metadata": {},
   "outputs": [
    {
     "data": {
      "text/plain": [
       "10560"
      ]
     },
     "execution_count": 81,
     "metadata": {},
     "output_type": "execute_result"
    }
   ],
   "source": [
    "strategy_df['total_score_part_2'] = strategy_df['game_points_part_2']+strategy_df['our_play_int_part_2']\n",
    "strategy_df['total_score_part_2'].sum()"
   ]
  },
  {
   "cell_type": "markdown",
   "metadata": {},
   "source": [
    "# Day 3"
   ]
  },
  {
   "cell_type": "markdown",
   "metadata": {},
   "source": [
    "## Part 1"
   ]
  },
  {
   "cell_type": "code",
   "execution_count": 102,
   "metadata": {},
   "outputs": [],
   "source": [
    "rucksack_df = pd.read_csv('day_3/rucksack_data.txt', sep=' ', header=None, names=['full_rucksack'])"
   ]
  },
  {
   "cell_type": "code",
   "execution_count": 160,
   "metadata": {},
   "outputs": [],
   "source": [
    "def split_string(string):\n",
    "    return string[:len(string)//2], string[len(string)//2:]\n",
    "\n",
    "rucksack_df['first_compartment'] , rucksack_df['second_compartment'] = zip(*rucksack_df['full_rucksack'].apply(split_string))\n",
    "rucksack_df['common_letter'] = rucksack_df.apply(lambda x: list(set(x['first_compartment']).intersection(set(x['second_compartment'])))[0], axis=1)"
   ]
  },
  {
   "cell_type": "code",
   "execution_count": 161,
   "metadata": {},
   "outputs": [],
   "source": [
    "dict_values_low_case = {chr(i): i-96 for i in range(97, 123)}\n",
    "dict_values_capital = {chr(i): i-64+26 for i in range(65, 91)}\n",
    "\n",
    "dict_alphabet_values = {**dict_values_low_case, **dict_values_capital}"
   ]
  },
  {
   "cell_type": "code",
   "execution_count": 169,
   "metadata": {},
   "outputs": [
    {
     "data": {
      "text/plain": [
       "7967"
      ]
     },
     "execution_count": 169,
     "metadata": {},
     "output_type": "execute_result"
    }
   ],
   "source": [
    "rucksack_df['common_letter_value'] = rucksack_df['common_letter'].map(dict_alphabet_values)\n",
    "rucksack_df['common_letter_value'].sum()"
   ]
  },
  {
   "cell_type": "markdown",
   "metadata": {},
   "source": [
    "## Part 2"
   ]
  },
  {
   "cell_type": "code",
   "execution_count": 179,
   "metadata": {},
   "outputs": [],
   "source": [
    "for i in range(0, len(rucksack_df), 3):\n",
    "\n",
    "    intersection = set(rucksack_df.iloc[i]['full_rucksack']).intersection(set(rucksack_df.iloc[i+1]['full_rucksack']), set(rucksack_df.iloc[i+2]['full_rucksack']))\n",
    "    n_intersection = np.repeat(list(intersection), 3)\n",
    "    rucksack_df.loc[i:i+2,'group_intersection'] = np.repeat(list(intersection), 3)"
   ]
  },
  {
   "cell_type": "code",
   "execution_count": 181,
   "metadata": {},
   "outputs": [],
   "source": [
    "rucksack_df['group_intersection_value'] = rucksack_df['group_intersection'].map(dict_alphabet_values)"
   ]
  },
  {
   "cell_type": "code",
   "execution_count": 183,
   "metadata": {},
   "outputs": [
    {
     "data": {
      "text/plain": [
       "2716.0"
      ]
     },
     "execution_count": 183,
     "metadata": {},
     "output_type": "execute_result"
    }
   ],
   "source": [
    "rucksack_df['group_intersection_value'].sum()/3"
   ]
  }
 ],
 "metadata": {
  "kernelspec": {
   "display_name": "Python 3.9.14 ('.venv': venv)",
   "language": "python",
   "name": "python3"
  },
  "language_info": {
   "codemirror_mode": {
    "name": "ipython",
    "version": 3
   },
   "file_extension": ".py",
   "mimetype": "text/x-python",
   "name": "python",
   "nbconvert_exporter": "python",
   "pygments_lexer": "ipython3",
   "version": "3.9.14"
  },
  "orig_nbformat": 4,
  "vscode": {
   "interpreter": {
    "hash": "c699eefbcfe558385d5fddd45066d54ed8e32e463324e83f649a22ebe04510bc"
   }
  }
 },
 "nbformat": 4,
 "nbformat_minor": 2
}
