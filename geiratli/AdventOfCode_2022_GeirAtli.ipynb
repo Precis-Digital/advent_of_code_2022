{
 "cells": [
  {
   "cell_type": "markdown",
   "metadata": {},
   "source": [
    "# Day 1: Calorie Counting"
   ]
  },
  {
   "cell_type": "markdown",
   "metadata": {},
   "source": [
    "## Part 1"
   ]
  },
  {
   "cell_type": "code",
   "execution_count": 45,
   "metadata": {},
   "outputs": [],
   "source": [
    "import numpy as np\n",
    "from itertools import groupby\n",
    "\n",
    "\n",
    "with open('day_1/input.txt') as calories_file:\n",
    "    array_list = [np.loadtxt(g, dtype=int) for k, g in groupby(calories_file, lambda x: x.startswith('\\n')) if not k]\n"
   ]
  },
  {
   "cell_type": "code",
   "execution_count": 50,
   "metadata": {},
   "outputs": [
    {
     "name": "stdout",
     "output_type": "stream",
     "text": [
      "The maximum value is 66487\n"
     ]
    }
   ],
   "source": [
    "sum_of_arrays = [np.sum(x) for x in array_list]\n",
    "\n",
    "max_value = max(sum_of_arrays)\n",
    "\n",
    "print(f'The maximum value is {max_value}')"
   ]
  },
  {
   "cell_type": "markdown",
   "metadata": {},
   "source": [
    "## Part 2"
   ]
  },
  {
   "cell_type": "code",
   "execution_count": 53,
   "metadata": {},
   "outputs": [
    {
     "name": "stdout",
     "output_type": "stream",
     "text": [
      "The sum of the first 3 elements is 197301\n"
     ]
    }
   ],
   "source": [
    "sorted_sum_of_arrays = sorted(sum_of_arrays, reverse=True)\n",
    "\n",
    "print(f'The sum of the first 3 elements is {sum(sorted_sum_of_arrays[:3])}')"
   ]
  },
  {
   "cell_type": "code",
   "execution_count": null,
   "metadata": {},
   "outputs": [],
   "source": []
  }
 ],
 "metadata": {
  "kernelspec": {
   "display_name": "Python 3.9.14 ('.venv': venv)",
   "language": "python",
   "name": "python3"
  },
  "language_info": {
   "codemirror_mode": {
    "name": "ipython",
    "version": 3
   },
   "file_extension": ".py",
   "mimetype": "text/x-python",
   "name": "python",
   "nbconvert_exporter": "python",
   "pygments_lexer": "ipython3",
   "version": "3.9.14"
  },
  "orig_nbformat": 4,
  "vscode": {
   "interpreter": {
    "hash": "c699eefbcfe558385d5fddd45066d54ed8e32e463324e83f649a22ebe04510bc"
   }
  }
 },
 "nbformat": 4,
 "nbformat_minor": 2
}
